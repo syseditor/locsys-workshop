{
  "cells": [
    {
      "cell_type": "markdown",
      "metadata": {
        "id": "7hPNM_JWH9aF"
      },
      "source": [
        "# Setup Environment"
      ]
    },
    {
      "cell_type": "code",
      "execution_count": null,
      "metadata": {
        "colab": {
          "background_save": true
        },
        "id": "vkYG09XUEBbp",
        "outputId": "77742e31-7935-46cf-8113-25d8423d66f6"
      },
      "outputs": [
        {
          "name": "stdout",
          "output_type": "stream",
          "text": [
            "env: UID=6530f9263773c5f7858b6b33\n"
          ]
        }
      ],
      "source": [
        "%env UID=6530f9263773c5f7858b6b33"
      ]
    },
    {
      "cell_type": "code",
      "execution_count": null,
      "metadata": {
        "collapsed": true,
        "id": "HQ3zMDUoDAqi"
      },
      "outputs": [],
      "source": [
        "!apt update && apt upgrade && apt-get install -y software-properties-common redis-server\n",
        "!service redis-server start\n",
        "\n",
        "!pip install https://github.com/robotics-4-all/commlib-py/archive/devel.zip -Uq\n",
        "!pip install https://github.com/robotics-4-all/goalee/archive/devel.zip -Uq\n",
        "\n",
        "!git clone https://github.com/robotics-4-all/streamsim.git\n",
        "!cd streamsim/ && git checkout tags/v0.7.0\n",
        "!cd streamsim/ && pip3 install -r requirements.txt\n",
        "!cd streamsim && pip3 install .\n",
        "\n",
        "!bash -c '[ ! -z appmaker-executor ] && git clone https://github.com/robotics-4-all/appmaker-executor.git'\n",
        "!bash -c '[ ! -z goal-dsl ] && git clone https://github.com/robotics-4-all/goal-dsl.git && cd goal-dsl && git checkout hackathon_2025 && pip install .'\n",
        "!bash -c '[ ! -z goaldsl-executor ] && git clone https://github.com/robotics-4-all/goaldsl-executor.git && cd goaldsl-executor && git checkout hackathon_2025 && pip install -r requirements.txt'"
      ]
    },
    {
      "cell_type": "markdown",
      "metadata": {
        "id": "QvMgpISBfd6n"
      },
      "source": [
        "# Start Executors"
      ]
    },
    {
      "cell_type": "code",
      "execution_count": null,
      "metadata": {
        "colab": {
          "base_uri": "https://localhost:8080/"
        },
        "collapsed": true,
        "id": "c6SQhANZf1g2",
        "outputId": "a758eefc-90b1-481d-a8f6-1d72611a0819"
      },
      "outputs": [
        {
          "metadata": {
            "tags": null
          },
          "name": "stdout",
          "output_type": "stream",
          "text": [
            "env: USE_REDIS=1\n",
            "env: BROKER_TYPE=MQTT\n",
            "env: BROKER_HOST=locsys.issel.ee.auth.gr\n",
            "env: BROKER_PORT=8883\n",
            "env: BROKER_SSL=True\n",
            "env: BROKER_USERNAME=sensors\n",
            "env: BROKER_PASSWORD=issel.sensors\n",
            "env: HEARTBEATS=False\n",
            "env: DEBUG=False\n",
            "env: WAIT_FOR_EXECUTION_TERMINATION=False\n",
            "env: GOALDSL_ZERO_LOGS=0\n",
            "env: GOALDSL_LOG_LEVEL=CRITICAL\n",
            "env: STREAMSIM_ZERO_LOGS=0\n",
            "env: STREAMSIM_LOG_LEVEL=CRITICAL\n",
            "env: APPMAKER_ZERO_LOGS=1\n",
            "env: APPMAKER_LOG_LEVEL=CRITICAL\n",
            "bash: line 1: kill: (2535) - No such process\n",
            "bash: line 1: kill: (2551) - No such process\n",
            "bash: line 1: kill: (2556) - No such process\n",
            "READY !!!\n",
            "==> goalexecutor.log <==\n",
            "\n",
            "==> appexecutor.log <==\n",
            "\n",
            "==> streamsim.log <==\n",
            "CRITICAL : stream_simulator.simulator : Simulator UID is: 6530f9263773c5f7858b6b33\n",
            "\n",
            "==> appexecutor.log <==\n",
            "Connected to broker\n",
            "Process Process-1:\n",
            "Traceback (most recent call last):\n",
            "  File \"/usr/lib/python3.11/multiprocessing/process.py\", line 314, in _bootstrap\n",
            "    self.run()\n",
            "  File \"/usr/lib/python3.11/multiprocessing/process.py\", line 108, in run\n",
            "    self._target(*self._args, **self._kwargs)\n",
            "  File \"/content/appmaker-executor/appmakerexecutor/src/appmakerexecutor/appmaker.py\", line 45, in start_executor\n",
            "    amexe.load_model(message)\n",
            "  File \"/content/appmaker-executor/appmakerexecutor/src/appmakerexecutor/appmaker_executor.py\", line 330, in load_model\n",
            "    thread_parameter = [int(x.strip()) for x in thread_parameter]\n",
            "                       ^^^^^^^^^^^^^^^^^^^^^^^^^^^^^^^^^^^^^^^^^^\n",
            "  File \"/content/appmaker-executor/appmakerexecutor/src/appmakerexecutor/appmaker_executor.py\", line 330, in <listcomp>\n",
            "    thread_parameter = [int(x.strip()) for x in thread_parameter]\n",
            "                        ^^^^^^^^^^^^^^\n",
            "ValueError: invalid literal for int() with base 10: \"node.properties['taskID'] }}\"\n"
          ]
        }
      ],
      "source": [
        "# Setup and Deploy required Executors\n",
        "%env USE_REDIS=1\n",
        "\n",
        "%env BROKER_TYPE=MQTT\n",
        "%env BROKER_HOST=locsys.issel.ee.auth.gr\n",
        "%env BROKER_PORT=8883\n",
        "%env BROKER_SSL=True\n",
        "%env BROKER_USERNAME=sensors\n",
        "%env BROKER_PASSWORD=issel.sensors\n",
        "%env HEARTBEATS=False\n",
        "%env DEBUG=False\n",
        "%env WAIT_FOR_EXECUTION_TERMINATION=False\n",
        "\n",
        "%env GOALDSL_ZERO_LOGS=0\n",
        "%env GOALDSL_LOG_LEVEL=CRITICAL\n",
        "%env STREAMSIM_ZERO_LOGS=0\n",
        "%env STREAMSIM_LOG_LEVEL=CRITICAL\n",
        "%env APPMAKER_ZERO_LOGS=1\n",
        "%env APPMAKER_LOG_LEVEL=CRITICAL\n",
        "\n",
        "\n",
        "# Setup and Deploy StreamSim\n",
        "!bash -c '[ -f streamsim.pid ] && pid=$(cat streamsim.pid) && kill $pid'\n",
        "!nohup python3 streamsim/stream_simulator/bin/main.py ${UID} > streamsim.log 2>&1 & echo $! > streamsim.pid\n",
        "\n",
        "# Setup and Deploy AppMaker-Executor\n",
        "!bash -c '[ -f appexecutor.pid ] && pid=$(cat appexecutor.pid) && kill $pid'\n",
        "!nohup python appmaker-executor/appmakerexecutor/src/appmakerexecutor/appmaker.py ${UID} > appexecutor.log 2>&1 & echo $! > appexecutor.pid\n",
        "\n",
        "# Setup and Deploy GoalDSL-Executor\n",
        "!bash -c '[ -f goalexecutor.pid ] && pid=$(cat goalexecutor.pid) && kill $pid'\n",
        "!nohup python goaldsl-executor/executor.py > goalexecutor.log 2>&1 & echo $! > goalexecutor.pid\n",
        "\n",
        "print(\"READY !!!\")\n",
        "# Check for errors\n",
        "!tail -f goalexecutor.log appexecutor.log streamsim.log # | grep -E \"error|warning|Error|Warning|ERROR|WARNING|Reconnecting in\""
      ]
    },
    {
      "cell_type": "markdown",
      "metadata": {
        "id": "pK3IvQbCfzO9"
      },
      "source": [
        "# Kill All"
      ]
    },
    {
      "cell_type": "code",
      "execution_count": null,
      "metadata": {
        "id": "zj6RY-jqgCjJ"
      },
      "outputs": [],
      "source": [
        "!bash -c '[ -f streamsim.pid ] && pid=$(cat streamsim.pid) && kill $pid'\n",
        "!bash -c '[ -f appexecutor.pid ] && pid=$(cat appexecutor.pid) && kill $pid'\n",
        "!bash -c '[ -f goalexecutor.pid ] && pid=$(cat goalexecutor.pid) && kill $pid'"
      ]
    }
  ],
  "metadata": {
    "colab": {
      "provenance": []
    },
    "kernelspec": {
      "display_name": "Python 3",
      "name": "python3"
    },
    "language_info": {
      "name": "python"
    }
  },
  "nbformat": 4,
  "nbformat_minor": 0
}